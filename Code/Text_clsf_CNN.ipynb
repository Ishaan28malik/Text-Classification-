{
 "cells": [
  {
   "cell_type": "code",
   "execution_count": 0,
   "metadata": {
    "colab": {},
    "colab_type": "code",
    "id": "Nnq2trgcQ5Oq"
   },
   "outputs": [],
   "source": [
    "# Import Libraries\n",
    "import pandas as pd\n",
    "import numpy as np\n",
    "import matplotlib.pyplot as plt\n",
    "import seaborn as sns\n",
    "from sklearn.model_selection import train_test_split\n",
    "from sklearn.preprocessing import LabelEncoder\n",
    "from keras.models import Model\n",
    "from keras.layers import LSTM, Activation, Dense, Dropout, Input, Embedding\n",
    "from keras.optimizers import RMSprop\n",
    "from keras.preprocessing.text import Tokenizer\n",
    "from keras.preprocessing import sequence\n",
    "from keras.utils import to_categorical\n",
    "from keras.callbacks import EarlyStopping\n",
    "%matplotlib inline\n"
   ]
  },
  {
   "cell_type": "markdown",
   "metadata": {
    "colab_type": "text",
    "id": "dHyNwZeljT1h"
   },
   "source": [
    "**Since new version for Tensorflow is available so we import the backend data and new files for v2(version 2) into v1(version 1)**"
   ]
  },
  {
   "cell_type": "code",
   "execution_count": 0,
   "metadata": {
    "colab": {},
    "colab_type": "code",
    "id": "O8dM4dVMcxWV"
   },
   "outputs": [],
   "source": [
    "import tensorflow.compat.v1 as tf\n",
    "tf.disable_v2_behavior()"
   ]
  },
  {
   "cell_type": "markdown",
   "metadata": {
    "colab_type": "text",
    "id": "v4VIWg9tjdsp"
   },
   "source": [
    "# Reading data from the CSV file using dataframe"
   ]
  },
  {
   "cell_type": "code",
   "execution_count": 0,
   "metadata": {
    "colab": {
     "base_uri": "https://localhost:8080/",
     "height": 204
    },
    "colab_type": "code",
    "id": "P3JM7JiPc3d5",
    "outputId": "165ee4fe-1f4c-4416-d068-b8bb94763992"
   },
   "outputs": [
    {
     "data": {
      "text/html": [
       "<div>\n",
       "<style scoped>\n",
       "    .dataframe tbody tr th:only-of-type {\n",
       "        vertical-align: middle;\n",
       "    }\n",
       "\n",
       "    .dataframe tbody tr th {\n",
       "        vertical-align: top;\n",
       "    }\n",
       "\n",
       "    .dataframe thead th {\n",
       "        text-align: right;\n",
       "    }\n",
       "</style>\n",
       "<table border=\"1\" class=\"dataframe\">\n",
       "  <thead>\n",
       "    <tr style=\"text-align: right;\">\n",
       "      <th></th>\n",
       "      <th>v1</th>\n",
       "      <th>v2</th>\n",
       "      <th>Unnamed: 2</th>\n",
       "      <th>Unnamed: 3</th>\n",
       "      <th>Unnamed: 4</th>\n",
       "    </tr>\n",
       "  </thead>\n",
       "  <tbody>\n",
       "    <tr>\n",
       "      <th>0</th>\n",
       "      <td>ham</td>\n",
       "      <td>Go until jurong point, crazy.. Available only ...</td>\n",
       "      <td>NaN</td>\n",
       "      <td>NaN</td>\n",
       "      <td>NaN</td>\n",
       "    </tr>\n",
       "    <tr>\n",
       "      <th>1</th>\n",
       "      <td>ham</td>\n",
       "      <td>Ok lar... Joking wif u oni...</td>\n",
       "      <td>NaN</td>\n",
       "      <td>NaN</td>\n",
       "      <td>NaN</td>\n",
       "    </tr>\n",
       "    <tr>\n",
       "      <th>2</th>\n",
       "      <td>spam</td>\n",
       "      <td>Free entry in 2 a wkly comp to win FA Cup fina...</td>\n",
       "      <td>NaN</td>\n",
       "      <td>NaN</td>\n",
       "      <td>NaN</td>\n",
       "    </tr>\n",
       "    <tr>\n",
       "      <th>3</th>\n",
       "      <td>ham</td>\n",
       "      <td>U dun say so early hor... U c already then say...</td>\n",
       "      <td>NaN</td>\n",
       "      <td>NaN</td>\n",
       "      <td>NaN</td>\n",
       "    </tr>\n",
       "    <tr>\n",
       "      <th>4</th>\n",
       "      <td>ham</td>\n",
       "      <td>Nah I don't think he goes to usf, he lives aro...</td>\n",
       "      <td>NaN</td>\n",
       "      <td>NaN</td>\n",
       "      <td>NaN</td>\n",
       "    </tr>\n",
       "  </tbody>\n",
       "</table>\n",
       "</div>"
      ],
      "text/plain": [
       "     v1  ... Unnamed: 4\n",
       "0   ham  ...        NaN\n",
       "1   ham  ...        NaN\n",
       "2  spam  ...        NaN\n",
       "3   ham  ...        NaN\n",
       "4   ham  ...        NaN\n",
       "\n",
       "[5 rows x 5 columns]"
      ]
     },
     "execution_count": 33,
     "metadata": {
      "tags": []
     },
     "output_type": "execute_result"
    }
   ],
   "source": [
    "df = pd.read_csv('../spam.csv',delimiter=',',encoding='latin-1')\n",
    "df.head()"
   ]
  },
  {
   "cell_type": "markdown",
   "metadata": {
    "colab_type": "text",
    "id": "hDphTuy4zMTU"
   },
   "source": [
    "# Dropping the outliers or unecessary empty data points"
   ]
  },
  {
   "cell_type": "code",
   "execution_count": 0,
   "metadata": {
    "colab": {
     "base_uri": "https://localhost:8080/",
     "height": 136
    },
    "colab_type": "code",
    "id": "e65HyT_xfmFb",
    "outputId": "91d1eacf-3f4c-42f9-9b7f-55b8ad662206"
   },
   "outputs": [
    {
     "name": "stdout",
     "output_type": "stream",
     "text": [
      "<class 'pandas.core.frame.DataFrame'>\n",
      "RangeIndex: 5572 entries, 0 to 5571\n",
      "Data columns (total 2 columns):\n",
      "v1    5572 non-null object\n",
      "v2    5572 non-null object\n",
      "dtypes: object(2)\n",
      "memory usage: 87.2+ KB\n"
     ]
    }
   ],
   "source": [
    "df.drop(['Unnamed: 2', 'Unnamed: 3', 'Unnamed: 4'],axis=1,inplace=True)\n",
    "df.info()"
   ]
  },
  {
   "cell_type": "markdown",
   "metadata": {
    "colab_type": "text",
    "id": "r_ya6biZzOCq"
   },
   "source": [
    "# Creating the plot for the categories"
   ]
  },
  {
   "cell_type": "code",
   "execution_count": 49,
   "metadata": {
    "colab": {
     "base_uri": "https://localhost:8080/",
     "height": 312
    },
    "colab_type": "code",
    "id": "Vc3VrV6ifqEW",
    "outputId": "f3710971-22a3-4b76-9271-2b14c5cc66a5"
   },
   "outputs": [
    {
     "data": {
      "text/plain": [
       "Text(0.5, 1.0, 'Number of ham and spam messages')"
      ]
     },
     "execution_count": 49,
     "metadata": {
      "tags": []
     },
     "output_type": "execute_result"
    },
    {
     "data": {
      "image/png": "[encoded data removed]",
      "text/plain": [
       "<Figure size 432x288 with 1 Axes>"
      ]
     },
     "metadata": {
      "tags": []
     },
     "output_type": "display_data"
    }
   ],
   "source": [
    "sns.countplot(df.v1)\n",
    "plt.xlabel('CATEGORY')\n",
    "plt.title('Number of ham and spam messages')"
   ]
  },
  {
   "cell_type": "markdown",
   "metadata": {
    "colab_type": "text",
    "id": "OQNSENZPzZ2l"
   },
   "source": [
    "**Labeling and creating Input and Output vectors**"
   ]
  },
  {
   "cell_type": "code",
   "execution_count": 0,
   "metadata": {
    "colab": {},
    "colab_type": "code",
    "id": "17TKrsK4fuyZ"
   },
   "outputs": [],
   "source": [
    "X = df.v2\n",
    "Y = df.v1\n",
    "le = LabelEncoder()\n",
    "Y = le.fit_transform(Y)\n",
    "Y = Y.reshape(-1,1)"
   ]
  },
  {
   "cell_type": "markdown",
   "metadata": {
    "colab_type": "text",
    "id": "xIQfDrm4zaxk"
   },
   "source": [
    "**Data splitting into test and train**"
   ]
  },
  {
   "cell_type": "code",
   "execution_count": 0,
   "metadata": {
    "colab": {},
    "colab_type": "code",
    "id": "okAPlrf4fweY"
   },
   "outputs": [],
   "source": [
    "X_train,X_test,Y_train,Y_test = train_test_split(X,Y,test_size=0.15)"
   ]
  },
  {
   "cell_type": "markdown",
   "metadata": {
    "colab_type": "text",
    "id": "N9p1eQ3hzeUS"
   },
   "source": [
    "# Data processing \n",
    "* Tokenize the data\n",
    "* Padding "
   ]
  },
  {
   "cell_type": "code",
   "execution_count": 0,
   "metadata": {
    "colab": {
     "base_uri": "https://localhost:8080/",
     "height": 170
    },
    "colab_type": "code",
    "id": "0FxvVIP4c5k2",
    "outputId": "08a183b3-6264-4eac-e311-2d9154d8749f"
   },
   "outputs": [
    {
     "name": "stdout",
     "output_type": "stream",
     "text": [
      "     v1  ... Unnamed: 4\n",
      "0   ham  ...        NaN\n",
      "1   ham  ...        NaN\n",
      "2  spam  ...        NaN\n",
      "3   ham  ...        NaN\n",
      "4   ham  ...        NaN\n",
      "\n",
      "[5 rows x 5 columns]\n",
      "import done\n"
     ]
    }
   ],
   "source": [
    "DATA_FILE = '../spam.csv'\n",
    "df = pd.read_csv(DATA_FILE,encoding='latin-1')\n",
    "print(df.head())\n",
    "\n",
    "tags = df.v1\n",
    "texts = df.v2\n",
    "from keras.models import Sequential\n",
    "from keras.layers import Dense, Dropout, Activation\n",
    "from keras.layers import Embedding\n",
    "from keras.layers import Conv1D, GlobalMaxPooling1D\n",
    "from keras.preprocessing.text import Tokenizer\n",
    "from keras.preprocessing import sequence\n",
    "from sklearn.preprocessing import LabelEncoder\n",
    "import time\n",
    "from keras import metrics\n",
    "print('import done')"
   ]
  },
  {
   "cell_type": "code",
   "execution_count": 0,
   "metadata": {
    "colab": {},
    "colab_type": "code",
    "id": "bAh4pQM7d9BH"
   },
   "outputs": [],
   "source": [
    "num_max = 1000\n",
    "# preprocess\n",
    "le = LabelEncoder()\n",
    "tags = le.fit_transform(tags)\n",
    "tok = Tokenizer(num_words=num_max)\n",
    "tok.fit_on_texts(texts)\n",
    "mat_texts = tok.texts_to_matrix(texts,mode='count')\n",
    "print(tags[:5])\n",
    "print(mat_texts[:5])\n",
    "print(tags.shape,mat_texts.shape)"
   ]
  },
  {
   "cell_type": "code",
   "execution_count": 0,
   "metadata": {
    "colab": {},
    "colab_type": "code",
    "id": "NW0ived4eHdI"
   },
   "outputs": [],
   "source": [
    "def get_simple_model():\n",
    "    model = Sequential()\n",
    "    model.add(Dense(512, activation='relu', input_shape=(num_max,)))\n",
    "    model.add(Dropout(0.2))\n",
    "    model.add(Dense(256, activation='relu'))\n",
    "    model.add(Dropout(0.2))\n",
    "    model.add(Dense(1, activation='sigmoid'))\n",
    "    model.summary()\n",
    "    model.compile(loss='binary_crossentropy',\n",
    "              optimizer='adam',\n",
    "              metrics=['acc',metrics.binary_accuracy])\n",
    "    print('compile done')\n",
    "    return model\n",
    "\n",
    "def check_model(model,x,y):\n",
    "    model.fit(x,y,batch_size=32,epochs=10,verbose=1,validation_split=0.2)\n",
    "\n",
    "m = get_simple_model()\n",
    "check_model(m,mat_texts,tags)"
   ]
  },
  {
   "cell_type": "markdown",
   "metadata": {
    "colab_type": "text",
    "id": "odfOHWhnzyp3"
   },
   "source": [
    "# **CNN**"
   ]
  },
  {
   "cell_type": "code",
   "execution_count": 0,
   "metadata": {
    "colab": {
     "base_uri": "https://localhost:8080/",
     "height": 153
    },
    "colab_type": "code",
    "id": "NcVhv-h4eMIN",
    "outputId": "450f583e-903f-41d3-d218-69459a0b4436"
   },
   "outputs": [
    {
     "name": "stdout",
     "output_type": "stream",
     "text": [
      "[50, 469, 841, 751, 657, 64, 8, 89, 121, 349, 147, 67, 58, 144]\n",
      "[  0   0   0   0   0   0   0   0   0   0   0   0   0   0   0   0   0   0\n",
      "   0   0   0   0   0   0   0   0   0   0   0   0   0   0   0   0   0   0\n",
      "   0   0   0   0   0   0   0   0   0   0   0   0   0   0   0   0   0   0\n",
      "   0   0   0   0   0   0   0   0   0   0   0   0   0   0   0   0   0   0\n",
      "   0   0   0   0   0   0   0   0   0   0   0   0   0   0  50 469 841 751\n",
      " 657  64   8  89 121 349 147  67  58 144]\n",
      "(5572, 100)\n"
     ]
    }
   ],
   "source": [
    "# for cnn preproces\n",
    "max_len = 100\n",
    "cnn_texts_seq = tok.texts_to_sequences(texts)\n",
    "print(cnn_texts_seq[0])\n",
    "cnn_texts_mat = sequence.pad_sequences(cnn_texts_seq,maxlen=max_len)\n",
    "print(cnn_texts_mat[0])\n",
    "print(cnn_texts_mat.shape)"
   ]
  },
  {
   "cell_type": "markdown",
   "metadata": {
    "colab_type": "text",
    "id": "DE_g1jkGz2iN"
   },
   "source": [
    "**Model v1**"
   ]
  },
  {
   "cell_type": "code",
   "execution_count": 0,
   "metadata": {
    "colab": {
     "base_uri": "https://localhost:8080/",
     "height": 816
    },
    "colab_type": "code",
    "id": "nfSutYJyefnB",
    "outputId": "aa961175-c5fc-4446-9084-61d8746733f5"
   },
   "outputs": [
    {
     "name": "stdout",
     "output_type": "stream",
     "text": [
      "Model: \"sequential_6\"\n",
      "_________________________________________________________________\n",
      "Layer (type)                 Output Shape              Param #   \n",
      "=================================================================\n",
      "embedding_3 (Embedding)      (None, 100, 20)           20000     \n",
      "_________________________________________________________________\n",
      "dropout_11 (Dropout)         (None, 100, 20)           0         \n",
      "_________________________________________________________________\n",
      "conv1d_3 (Conv1D)            (None, 98, 64)            3904      \n",
      "_________________________________________________________________\n",
      "global_max_pooling1d_3 (Glob (None, 64)                0         \n",
      "_________________________________________________________________\n",
      "dense_14 (Dense)             (None, 256)               16640     \n",
      "_________________________________________________________________\n",
      "dropout_12 (Dropout)         (None, 256)               0         \n",
      "_________________________________________________________________\n",
      "activation_5 (Activation)    (None, 256)               0         \n",
      "_________________________________________________________________\n",
      "dense_15 (Dense)             (None, 1)                 257       \n",
      "_________________________________________________________________\n",
      "activation_6 (Activation)    (None, 1)                 0         \n",
      "=================================================================\n",
      "Total params: 40,801\n",
      "Trainable params: 40,801\n",
      "Non-trainable params: 0\n",
      "_________________________________________________________________\n",
      "Train on 4457 samples, validate on 1115 samples\n",
      "Epoch 1/10\n",
      "4457/4457 [==============================] - 2s 449us/step - loss: 0.3918 - acc: 0.8638 - binary_accuracy: 0.8638 - val_loss: 0.2852 - val_acc: 0.8700 - val_binary_accuracy: 0.8700\n",
      "Epoch 2/10\n",
      "4457/4457 [==============================] - 1s 287us/step - loss: 0.1819 - acc: 0.9282 - binary_accuracy: 0.9282 - val_loss: 0.0839 - val_acc: 0.9731 - val_binary_accuracy: 0.9731\n",
      "Epoch 3/10\n",
      "4457/4457 [==============================] - 1s 288us/step - loss: 0.0596 - acc: 0.9829 - binary_accuracy: 0.9829 - val_loss: 0.0537 - val_acc: 0.9839 - val_binary_accuracy: 0.9839\n",
      "Epoch 4/10\n",
      "4457/4457 [==============================] - 1s 286us/step - loss: 0.0347 - acc: 0.9899 - binary_accuracy: 0.9899 - val_loss: 0.0490 - val_acc: 0.9839 - val_binary_accuracy: 0.9839\n",
      "Epoch 5/10\n",
      "4457/4457 [==============================] - 1s 283us/step - loss: 0.0221 - acc: 0.9942 - binary_accuracy: 0.9942 - val_loss: 0.0489 - val_acc: 0.9857 - val_binary_accuracy: 0.9857\n",
      "Epoch 6/10\n",
      "4457/4457 [==============================] - 1s 282us/step - loss: 0.0163 - acc: 0.9951 - binary_accuracy: 0.9951 - val_loss: 0.0607 - val_acc: 0.9776 - val_binary_accuracy: 0.9776\n",
      "Epoch 7/10\n",
      "4457/4457 [==============================] - 1s 283us/step - loss: 0.0103 - acc: 0.9975 - binary_accuracy: 0.9975 - val_loss: 0.0634 - val_acc: 0.9785 - val_binary_accuracy: 0.9785\n",
      "Epoch 8/10\n",
      "4457/4457 [==============================] - 1s 282us/step - loss: 0.0073 - acc: 0.9975 - binary_accuracy: 0.9975 - val_loss: 0.0615 - val_acc: 0.9785 - val_binary_accuracy: 0.9785\n",
      "Epoch 9/10\n",
      "4457/4457 [==============================] - 1s 301us/step - loss: 0.0058 - acc: 0.9987 - binary_accuracy: 0.9987 - val_loss: 0.0663 - val_acc: 0.9785 - val_binary_accuracy: 0.9785\n",
      "Epoch 10/10\n",
      "4457/4457 [==============================] - 1s 295us/step - loss: 0.0047 - acc: 0.9984 - binary_accuracy: 0.9984 - val_loss: 0.0714 - val_acc: 0.9794 - val_binary_accuracy: 0.9794\n"
     ]
    }
   ],
   "source": [
    "def get_cnn_model_v1():   \n",
    "    model = Sequential()\n",
    "    # we start off with an efficient embedding layer which maps\n",
    "    # our vocab indices into embedding_dims dimensions\n",
    "    # 1000 is num_max\n",
    "    model.add(Embedding(1000,\n",
    "                        20,\n",
    "                        input_length=max_len))\n",
    "    model.add(Dropout(0.2))\n",
    "    model.add(Conv1D(64,\n",
    "                     3,\n",
    "                     padding='valid',\n",
    "                     activation='relu',\n",
    "                     strides=1))\n",
    "    model.add(GlobalMaxPooling1D())\n",
    "    model.add(Dense(256))\n",
    "    model.add(Dropout(0.2))\n",
    "    model.add(Activation('relu'))\n",
    "    model.add(Dense(1))\n",
    "    model.add(Activation('sigmoid'))\n",
    "    model.summary()\n",
    "    model.compile(loss='binary_crossentropy',\n",
    "                  optimizer='adam',\n",
    "                  metrics=['acc',metrics.binary_accuracy])\n",
    "    return model\n",
    "\n",
    "m = get_cnn_model_v1()\n",
    "check_model(m,cnn_texts_mat,tags)"
   ]
  },
  {
   "cell_type": "markdown",
   "metadata": {
    "colab_type": "text",
    "id": "IFrA4doPz8r_"
   },
   "source": [
    "**Model v2**"
   ]
  },
  {
   "cell_type": "code",
   "execution_count": 0,
   "metadata": {
    "colab": {
     "base_uri": "https://localhost:8080/",
     "height": 816
    },
    "colab_type": "code",
    "id": "kG9UMVHxejtc",
    "outputId": "f0260f8b-5e20-4929-88c0-74b0c1581fb9"
   },
   "outputs": [
    {
     "name": "stdout",
     "output_type": "stream",
     "text": [
      "Model: \"sequential_7\"\n",
      "_________________________________________________________________\n",
      "Layer (type)                 Output Shape              Param #   \n",
      "=================================================================\n",
      "embedding_4 (Embedding)      (None, 100, 50)           50000     \n",
      "_________________________________________________________________\n",
      "dropout_13 (Dropout)         (None, 100, 50)           0         \n",
      "_________________________________________________________________\n",
      "conv1d_4 (Conv1D)            (None, 98, 64)            9664      \n",
      "_________________________________________________________________\n",
      "global_max_pooling1d_4 (Glob (None, 64)                0         \n",
      "_________________________________________________________________\n",
      "dense_16 (Dense)             (None, 256)               16640     \n",
      "_________________________________________________________________\n",
      "dropout_14 (Dropout)         (None, 256)               0         \n",
      "_________________________________________________________________\n",
      "activation_7 (Activation)    (None, 256)               0         \n",
      "_________________________________________________________________\n",
      "dense_17 (Dense)             (None, 1)                 257       \n",
      "_________________________________________________________________\n",
      "activation_8 (Activation)    (None, 1)                 0         \n",
      "=================================================================\n",
      "Total params: 76,561\n",
      "Trainable params: 76,561\n",
      "Non-trainable params: 0\n",
      "_________________________________________________________________\n",
      "Train on 4457 samples, validate on 1115 samples\n",
      "Epoch 1/10\n",
      "4457/4457 [==============================] - 3s 625us/step - loss: 0.3761 - acc: 0.8591 - binary_accuracy: 0.8591 - val_loss: 0.2550 - val_acc: 0.8700 - val_binary_accuracy: 0.8700\n",
      "Epoch 2/10\n",
      "4457/4457 [==============================] - 2s 438us/step - loss: 0.1069 - acc: 0.9679 - binary_accuracy: 0.9679 - val_loss: 0.0487 - val_acc: 0.9803 - val_binary_accuracy: 0.9803\n",
      "Epoch 3/10\n",
      "4457/4457 [==============================] - 2s 440us/step - loss: 0.0350 - acc: 0.9890 - binary_accuracy: 0.9890 - val_loss: 0.0487 - val_acc: 0.9839 - val_binary_accuracy: 0.9839\n",
      "Epoch 4/10\n",
      "4457/4457 [==============================] - 2s 441us/step - loss: 0.0199 - acc: 0.9946 - binary_accuracy: 0.9946 - val_loss: 0.0531 - val_acc: 0.9865 - val_binary_accuracy: 0.9865\n",
      "Epoch 5/10\n",
      "4457/4457 [==============================] - 2s 440us/step - loss: 0.0122 - acc: 0.9966 - binary_accuracy: 0.9966 - val_loss: 0.0651 - val_acc: 0.9794 - val_binary_accuracy: 0.9794\n",
      "Epoch 6/10\n",
      "4457/4457 [==============================] - 2s 436us/step - loss: 0.0086 - acc: 0.9982 - binary_accuracy: 0.9982 - val_loss: 0.0620 - val_acc: 0.9857 - val_binary_accuracy: 0.9857\n",
      "Epoch 7/10\n",
      "4457/4457 [==============================] - 2s 438us/step - loss: 0.0048 - acc: 0.9987 - binary_accuracy: 0.9987 - val_loss: 0.0750 - val_acc: 0.9803 - val_binary_accuracy: 0.9803\n",
      "Epoch 8/10\n",
      "4457/4457 [==============================] - 2s 445us/step - loss: 0.0041 - acc: 0.9993 - binary_accuracy: 0.9993 - val_loss: 0.0743 - val_acc: 0.9830 - val_binary_accuracy: 0.9830\n",
      "Epoch 9/10\n",
      "4457/4457 [==============================] - 2s 443us/step - loss: 0.0032 - acc: 0.9996 - binary_accuracy: 0.9996 - val_loss: 0.0783 - val_acc: 0.9821 - val_binary_accuracy: 0.9821\n",
      "Epoch 10/10\n",
      "4457/4457 [==============================] - 2s 440us/step - loss: 0.0019 - acc: 0.9996 - binary_accuracy: 0.9996 - val_loss: 0.0856 - val_acc: 0.9803 - val_binary_accuracy: 0.9803\n"
     ]
    }
   ],
   "source": [
    "def get_cnn_model_v2(): # added embed   \n",
    "    model = Sequential()\n",
    "    # we start off with an efficient embedding layer which maps\n",
    "    # our vocab indices into embedding_dims dimensions\n",
    "    # 1000 is num_max\n",
    "    model.add(Embedding(1000,\n",
    "                        50, #!!!!!!!!!!!!!!!!!!!!!!!\n",
    "                        input_length=max_len))\n",
    "    model.add(Dropout(0.2))\n",
    "    model.add(Conv1D(64,\n",
    "                     3,\n",
    "                     padding='valid',\n",
    "                     activation='relu',\n",
    "                     strides=1))\n",
    "    model.add(GlobalMaxPooling1D())\n",
    "    model.add(Dense(256))\n",
    "    model.add(Dropout(0.2))\n",
    "    model.add(Activation('relu'))\n",
    "    model.add(Dense(1))\n",
    "    model.add(Activation('sigmoid'))\n",
    "    model.summary()\n",
    "    model.compile(loss='binary_crossentropy',\n",
    "                  optimizer='adam',\n",
    "                  metrics=['acc',metrics.binary_accuracy])\n",
    "    return model\n",
    "\n",
    "m = get_cnn_model_v2()\n",
    "check_model(m,cnn_texts_mat,tags)"
   ]
  },
  {
   "cell_type": "markdown",
   "metadata": {
    "colab_type": "text",
    "id": "r1KnWIz40EAy"
   },
   "source": [
    "**Model v3**"
   ]
  },
  {
   "cell_type": "code",
   "execution_count": 0,
   "metadata": {
    "colab": {
     "base_uri": "https://localhost:8080/",
     "height": 816
    },
    "colab_type": "code",
    "id": "4OFK4njgg729",
    "outputId": "30f93e5d-0576-40d5-ec71-e1e3bf6b375b"
   },
   "outputs": [
    {
     "name": "stdout",
     "output_type": "stream",
     "text": [
      "Model: \"sequential_8\"\n",
      "_________________________________________________________________\n",
      "Layer (type)                 Output Shape              Param #   \n",
      "=================================================================\n",
      "embedding_5 (Embedding)      (None, 100, 20)           20000     \n",
      "_________________________________________________________________\n",
      "dropout_15 (Dropout)         (None, 100, 20)           0         \n",
      "_________________________________________________________________\n",
      "conv1d_5 (Conv1D)            (None, 98, 256)           15616     \n",
      "_________________________________________________________________\n",
      "global_max_pooling1d_5 (Glob (None, 256)               0         \n",
      "_________________________________________________________________\n",
      "dense_18 (Dense)             (None, 256)               65792     \n",
      "_________________________________________________________________\n",
      "dropout_16 (Dropout)         (None, 256)               0         \n",
      "_________________________________________________________________\n",
      "activation_9 (Activation)    (None, 256)               0         \n",
      "_________________________________________________________________\n",
      "dense_19 (Dense)             (None, 1)                 257       \n",
      "_________________________________________________________________\n",
      "activation_10 (Activation)   (None, 1)                 0         \n",
      "=================================================================\n",
      "Total params: 101,665\n",
      "Trainable params: 101,665\n",
      "Non-trainable params: 0\n",
      "_________________________________________________________________\n",
      "Train on 4457 samples, validate on 1115 samples\n",
      "Epoch 1/10\n",
      "4457/4457 [==============================] - 4s 794us/step - loss: 0.3541 - acc: 0.8600 - binary_accuracy: 0.8600 - val_loss: 0.2544 - val_acc: 0.8700 - val_binary_accuracy: 0.8700\n",
      "Epoch 2/10\n",
      "4457/4457 [==============================] - 3s 594us/step - loss: 0.1737 - acc: 0.9331 - binary_accuracy: 0.9331 - val_loss: 0.0632 - val_acc: 0.9812 - val_binary_accuracy: 0.9812\n",
      "Epoch 3/10\n",
      "4457/4457 [==============================] - 3s 602us/step - loss: 0.0460 - acc: 0.9879 - binary_accuracy: 0.9879 - val_loss: 0.0527 - val_acc: 0.9821 - val_binary_accuracy: 0.9821\n",
      "Epoch 4/10\n",
      "4457/4457 [==============================] - 3s 603us/step - loss: 0.0289 - acc: 0.9915 - binary_accuracy: 0.9915 - val_loss: 0.0612 - val_acc: 0.9812 - val_binary_accuracy: 0.9812\n",
      "Epoch 5/10\n",
      "4457/4457 [==============================] - 3s 602us/step - loss: 0.0176 - acc: 0.9946 - binary_accuracy: 0.9946 - val_loss: 0.0680 - val_acc: 0.9812 - val_binary_accuracy: 0.9812\n",
      "Epoch 6/10\n",
      "4457/4457 [==============================] - 3s 599us/step - loss: 0.0118 - acc: 0.9962 - binary_accuracy: 0.9962 - val_loss: 0.0741 - val_acc: 0.9812 - val_binary_accuracy: 0.9812\n",
      "Epoch 7/10\n",
      "4457/4457 [==============================] - 3s 594us/step - loss: 0.0072 - acc: 0.9982 - binary_accuracy: 0.9982 - val_loss: 0.0815 - val_acc: 0.9848 - val_binary_accuracy: 0.9848\n",
      "Epoch 8/10\n",
      "4457/4457 [==============================] - 3s 593us/step - loss: 0.0052 - acc: 0.9982 - binary_accuracy: 0.9982 - val_loss: 0.0972 - val_acc: 0.9740 - val_binary_accuracy: 0.9740\n",
      "Epoch 9/10\n",
      "4457/4457 [==============================] - 3s 596us/step - loss: 0.0058 - acc: 0.9987 - binary_accuracy: 0.9987 - val_loss: 0.1013 - val_acc: 0.9812 - val_binary_accuracy: 0.9812\n",
      "Epoch 10/10\n",
      "4457/4457 [==============================] - 3s 600us/step - loss: 0.0054 - acc: 0.9989 - binary_accuracy: 0.9989 - val_loss: 0.1098 - val_acc: 0.9785 - val_binary_accuracy: 0.9785\n"
     ]
    }
   ],
   "source": [
    "def get_cnn_model_v3():    # added filter\n",
    "    model = Sequential()\n",
    "    # we start off with an efficient embedding layer which maps\n",
    "    # our vocab indices into embedding_dims dimensions\n",
    "    # 1000 is num_max\n",
    "    model.add(Embedding(1000,\n",
    "                        20,\n",
    "                        input_length=max_len))\n",
    "    model.add(Dropout(0.2))\n",
    "    model.add(Conv1D(256, #!!!!!!!!!!!!!!!!!!!\n",
    "                     3,\n",
    "                     padding='valid',\n",
    "                     activation='relu',\n",
    "                     strides=1))\n",
    "    model.add(GlobalMaxPooling1D())\n",
    "    model.add(Dense(256))\n",
    "    model.add(Dropout(0.2))\n",
    "    model.add(Activation('relu'))\n",
    "    model.add(Dense(1))\n",
    "    model.add(Activation('sigmoid'))\n",
    "    model.summary()\n",
    "    model.compile(loss='binary_crossentropy',\n",
    "                  optimizer='adam',\n",
    "                  metrics=['acc',metrics.binary_accuracy])\n",
    "    return model\n",
    "\n",
    "m = get_cnn_model_v3()\n",
    "check_model(m,cnn_texts_mat,tags)"
   ]
  },
  {
   "cell_type": "markdown",
   "metadata": {
    "colab_type": "text",
    "id": "fOnHHHsT0OHL"
   },
   "source": [
    "**Test data processing**"
   ]
  },
  {
   "cell_type": "code",
   "execution_count": 0,
   "metadata": {
    "colab": {},
    "colab_type": "code",
    "id": "bz34TFwafZty"
   },
   "outputs": [],
   "source": [
    " test_sequences = tok.texts_to_sequences(X_test)\n",
    "test_sequences_matrix = sequence.pad_sequences(test_sequences,maxlen=max_len)"
   ]
  },
  {
   "cell_type": "markdown",
   "metadata": {
    "colab_type": "text",
    "id": "-BgmXc8i0T60"
   },
   "source": [
    "**Test data evaluation**"
   ]
  },
  {
   "cell_type": "code",
   "execution_count": 0,
   "metadata": {
    "colab": {
     "base_uri": "https://localhost:8080/",
     "height": 34
    },
    "colab_type": "code",
    "id": "NrQ-YDbQf9fF",
    "outputId": "53cda7f8-b65b-4a39-93c1-e5d81193ff40"
   },
   "outputs": [
    {
     "name": "stdout",
     "output_type": "stream",
     "text": [
      "836/836 [==============================] - 0s 154us/step\n"
     ]
    }
   ],
   "source": [
    "accr = m.evaluate(test_sequences_matrix,Y_test)"
   ]
  },
  {
   "cell_type": "markdown",
   "metadata": {
    "colab_type": "text",
    "id": "ioX2HqQh0bpD"
   },
   "source": [
    "# **Print the final result**"
   ]
  },
  {
   "cell_type": "code",
   "execution_count": 0,
   "metadata": {
    "colab": {
     "base_uri": "https://localhost:8080/",
     "height": 68
    },
    "colab_type": "code",
    "id": "m8CpBvBYf_fV",
    "outputId": "a51577f5-d7b1-474a-8c83-3ef97fc777c7"
   },
   "outputs": [
    {
     "name": "stdout",
     "output_type": "stream",
     "text": [
      "Test set\n",
      "  Loss: 0.043\n",
      "  Accuracy: 0.992\n"
     ]
    }
   ],
   "source": [
    "print('Test set\\n  Loss: {:0.3f}\\n  Accuracy: {:0.3f}'.format(accr[0],accr[1]))"
   ]
  },
  {
   "cell_type": "code",
   "execution_count": 0,
   "metadata": {
    "colab": {},
    "colab_type": "code",
    "id": "Hjrg8ReQgZec"
   },
   "outputs": [],
   "source": []
  }
 ],
 "metadata": {
  "colab": {
   "collapsed_sections": [],
   "name": "Text-clsf-CNN.ipynb",
   "provenance": []
  },
  "kernelspec": {
   "display_name": "Python 3",
   "language": "python",
   "name": "python3"
  },
  "language_info": {
   "codemirror_mode": {
    "name": "ipython",
    "version": 3
   },
   "file_extension": ".py",
   "mimetype": "text/x-python",
   "name": "python",
   "nbconvert_exporter": "python",
   "pygments_lexer": "ipython3",
   "version": "3.7.4"
  }
 },
 "nbformat": 4,
 "nbformat_minor": 1
}
